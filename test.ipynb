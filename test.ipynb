{
 "cells": [
  {
   "cell_type": "code",
   "execution_count": 1,
   "metadata": {},
   "outputs": [],
   "source": [
    "# Para hacer la red neuronal\n",
    "from tensorflow.keras.preprocessing.image import ImageDataGenerator\n",
    "from tensorflow.keras.preprocessing import image\n",
    "from tensorflow.keras.optimizers import RMSprop\n",
    "\n",
    "import numpy as np\n",
    "import tensorflow as tf\n",
    "import matplotlib.pyplot as plt\n",
    "import os\n",
    "import cv2\n",
    "import pickle\n",
    "from PIL import Image\n"
   ]
  },
  {
   "cell_type": "code",
   "execution_count": 2,
   "metadata": {},
   "outputs": [],
   "source": [
    "train = ImageDataGenerator(rescale=1/255)\n",
    "validation = ImageDataGenerator(rescale=1/255)"
   ]
  },
  {
   "cell_type": "code",
   "execution_count": 3,
   "metadata": {},
   "outputs": [
    {
     "output_type": "stream",
     "name": "stdout",
     "text": [
      "Found 16 images belonging to 3 classes.\nFound 9 images belonging to 3 classes.\n"
     ]
    }
   ],
   "source": [
    "train_dataset = train.flow_from_directory('src/datasets/training/', target_size=(200,200), batch_size= 3)\n",
    "\n",
    "validation_dataset = train.flow_from_directory('src/datasets/validation/', target_size=(200,200), batch_size= 3)"
   ]
  },
  {
   "cell_type": "code",
   "execution_count": 4,
   "metadata": {},
   "outputs": [
    {
     "output_type": "execute_result",
     "data": {
      "text/plain": [
       "{'Carlos Varela': 0, 'Johnny Depp': 1, 'Keanu Reeves': 2}"
      ]
     },
     "metadata": {},
     "execution_count": 4
    }
   ],
   "source": [
    "train_dataset.class_indices"
   ]
  },
  {
   "cell_type": "code",
   "execution_count": 5,
   "metadata": {},
   "outputs": [],
   "source": [
    "model = tf.keras.models.Sequential([\n",
    "tf.keras.layers.Conv2D(16, (3,3), activation = 'relu', input_shape=(200,200,3)), tf.keras.layers.MaxPool2D(2,2), \n",
    "\n",
    "tf.keras.layers.Conv2D(32,(3,3),activation='relu'),\n",
    "tf.keras.layers.MaxPool2D(2,2), \n",
    "\n",
    "tf.keras.layers.Conv2D(64,(3,3),activation='relu'),\n",
    "tf.keras.layers.MaxPool2D(2,2), \n",
    "\n",
    "tf.keras.layers.Flatten(),\n",
    "\n",
    "tf.keras.layers.Dense(512, activation='relu'),\n",
    "tf.keras.layers.Dense(1, activation='sigmoid')\n",
    "])"
   ]
  },
  {
   "cell_type": "code",
   "execution_count": 6,
   "metadata": {},
   "outputs": [],
   "source": [
    "model.compile(loss='binary_crossentropy', optimizer = RMSprop(lr=0.001), metrics=['accuracy'])"
   ]
  },
  {
   "cell_type": "code",
   "execution_count": 7,
   "metadata": {},
   "outputs": [
    {
     "output_type": "stream",
     "name": "stdout",
     "text": [
      "Epoch 1/30\n",
      "3/3 [==============================] - 1s 208ms/step - loss: 5.4353 - accuracy: 0.5238 - val_loss: 0.6676 - val_accuracy: 0.6667\n",
      "Epoch 2/30\n",
      "3/3 [==============================] - 0s 157ms/step - loss: 0.6681 - accuracy: 0.6667 - val_loss: 0.6382 - val_accuracy: 0.6667\n",
      "Epoch 3/30\n",
      "3/3 [==============================] - 0s 157ms/step - loss: 0.6405 - accuracy: 0.6667 - val_loss: 0.6395 - val_accuracy: 0.6667\n",
      "Epoch 4/30\n",
      "3/3 [==============================] - 0s 153ms/step - loss: 0.6383 - accuracy: 0.6667 - val_loss: 0.6384 - val_accuracy: 0.6667\n",
      "Epoch 5/30\n",
      "3/3 [==============================] - 0s 157ms/step - loss: 0.6378 - accuracy: 0.6667 - val_loss: 0.6409 - val_accuracy: 0.6667\n",
      "Epoch 6/30\n",
      "3/3 [==============================] - 0s 156ms/step - loss: 0.6403 - accuracy: 0.6667 - val_loss: 0.6375 - val_accuracy: 0.6667\n",
      "Epoch 7/30\n",
      "3/3 [==============================] - 0s 150ms/step - loss: 0.6390 - accuracy: 0.6667 - val_loss: 0.6395 - val_accuracy: 0.6667\n",
      "Epoch 8/30\n",
      "3/3 [==============================] - 0s 157ms/step - loss: 0.6374 - accuracy: 0.6667 - val_loss: 0.6380 - val_accuracy: 0.6667\n",
      "Epoch 9/30\n",
      "3/3 [==============================] - 0s 142ms/step - loss: 0.6408 - accuracy: 0.6667 - val_loss: 0.6488 - val_accuracy: 0.6667\n",
      "Epoch 10/30\n",
      "3/3 [==============================] - 0s 156ms/step - loss: 0.6421 - accuracy: 0.6667 - val_loss: 0.6394 - val_accuracy: 0.6667\n",
      "Epoch 11/30\n",
      "3/3 [==============================] - 0s 132ms/step - loss: 0.6402 - accuracy: 0.6667 - val_loss: 0.6380 - val_accuracy: 0.6667\n",
      "Epoch 12/30\n",
      "3/3 [==============================] - 0s 153ms/step - loss: 0.6409 - accuracy: 0.6667 - val_loss: 0.6385 - val_accuracy: 0.6667\n",
      "Epoch 13/30\n",
      "3/3 [==============================] - 0s 133ms/step - loss: 0.6391 - accuracy: 0.6667 - val_loss: 0.6454 - val_accuracy: 0.6667\n",
      "Epoch 14/30\n",
      "3/3 [==============================] - 0s 162ms/step - loss: 0.6375 - accuracy: 0.6667 - val_loss: 0.6395 - val_accuracy: 0.6667\n",
      "Epoch 15/30\n",
      "3/3 [==============================] - 0s 152ms/step - loss: 0.6526 - accuracy: 0.6667 - val_loss: 0.6409 - val_accuracy: 0.6667\n",
      "Epoch 16/30\n",
      "3/3 [==============================] - 0s 161ms/step - loss: 0.6380 - accuracy: 0.6667 - val_loss: 0.6382 - val_accuracy: 0.6667\n",
      "Epoch 17/30\n",
      "3/3 [==============================] - 0s 161ms/step - loss: 0.6404 - accuracy: 0.6667 - val_loss: 0.6375 - val_accuracy: 0.6667\n",
      "Epoch 18/30\n",
      "3/3 [==============================] - 0s 155ms/step - loss: 0.6382 - accuracy: 0.6667 - val_loss: 0.6426 - val_accuracy: 0.6667\n",
      "Epoch 19/30\n",
      "3/3 [==============================] - 0s 157ms/step - loss: 0.6462 - accuracy: 0.6667 - val_loss: 0.6523 - val_accuracy: 0.6667\n",
      "Epoch 20/30\n",
      "3/3 [==============================] - 0s 157ms/step - loss: 0.6423 - accuracy: 0.6667 - val_loss: 0.6423 - val_accuracy: 0.6667\n",
      "Epoch 21/30\n",
      "3/3 [==============================] - 0s 134ms/step - loss: 0.6396 - accuracy: 0.6667 - val_loss: 0.6386 - val_accuracy: 0.6667\n",
      "Epoch 22/30\n",
      "3/3 [==============================] - 0s 132ms/step - loss: 0.6374 - accuracy: 0.6667 - val_loss: 0.6381 - val_accuracy: 0.6667\n",
      "Epoch 23/30\n",
      "3/3 [==============================] - 0s 152ms/step - loss: 0.6377 - accuracy: 0.6667 - val_loss: 0.6415 - val_accuracy: 0.6667\n",
      "Epoch 24/30\n",
      "3/3 [==============================] - 0s 130ms/step - loss: 0.6452 - accuracy: 0.6667 - val_loss: 0.6668 - val_accuracy: 0.6667\n",
      "Epoch 25/30\n",
      "3/3 [==============================] - 0s 155ms/step - loss: 0.6643 - accuracy: 0.6667 - val_loss: 0.6521 - val_accuracy: 0.6667\n",
      "Epoch 26/30\n",
      "3/3 [==============================] - 0s 152ms/step - loss: 0.6442 - accuracy: 0.6667 - val_loss: 0.6377 - val_accuracy: 0.6667\n",
      "Epoch 27/30\n",
      "3/3 [==============================] - 0s 156ms/step - loss: 0.6373 - accuracy: 0.6667 - val_loss: 0.6390 - val_accuracy: 0.6667\n",
      "Epoch 28/30\n",
      "3/3 [==============================] - 0s 151ms/step - loss: 0.6422 - accuracy: 0.6667 - val_loss: 0.6453 - val_accuracy: 0.6667\n",
      "Epoch 29/30\n",
      "3/3 [==============================] - 0s 135ms/step - loss: 0.6392 - accuracy: 0.6667 - val_loss: 0.6402 - val_accuracy: 0.6667\n",
      "Epoch 30/30\n",
      "3/3 [==============================] - 0s 151ms/step - loss: 0.6374 - accuracy: 0.6667 - val_loss: 0.6381 - val_accuracy: 0.6667\n"
     ]
    }
   ],
   "source": [
    "model_fit = model.fit(train_dataset, steps_per_epoch=3, epochs=30, validation_data=validation_dataset)"
   ]
  },
  {
   "cell_type": "code",
   "execution_count": 9,
   "metadata": {},
   "outputs": [],
   "source": [
    "model_yaml = model.to_yaml()\n",
    "\n",
    "with open(\"model.yaml\",\"w\") as f:\n",
    "    f.write(model_yaml)"
   ]
  }
 ],
 "metadata": {
  "kernelspec": {
   "display_name": "Python 3",
   "language": "python",
   "name": "python3"
  },
  "language_info": {
   "codemirror_mode": {
    "name": "ipython",
    "version": 3
   },
   "file_extension": ".py",
   "mimetype": "text/x-python",
   "name": "python",
   "nbconvert_exporter": "python",
   "pygments_lexer": "ipython3",
   "version": "3.7.9-final"
  }
 },
 "nbformat": 4,
 "nbformat_minor": 2
}